{
 "cells": [
  {
   "cell_type": "markdown",
   "metadata": {},
   "source": [
    "Install \n",
    "[landmapy](https://github.com/byandell-envsys/landmapy)."
   ]
  },
  {
   "cell_type": "code",
   "execution_count": 1,
   "metadata": {},
   "outputs": [
    {
     "name": "stdout",
     "output_type": "stream",
     "text": [
      "Note: you may need to restart the kernel to use updated packages.\n"
     ]
    }
   ],
   "source": [
    "pip install --quiet ~/Documents/GitHub/landmapy"
   ]
  },
  {
   "cell_type": "code",
   "execution_count": 2,
   "metadata": {},
   "outputs": [
    {
     "name": "stdout",
     "output_type": "stream",
     "text": [
      "Help on function create_data_dir in module landmapy.habitat:\n",
      "\n",
      "create_data_dir(new_dir='habitat')\n",
      "    Create Data Directory if it does not exist.\n",
      "    \n",
      "    Parameters\n",
      "    ----------\n",
      "    new_dir: character string\n",
      "        Name of new directory\n",
      "\n"
     ]
    }
   ],
   "source": [
    "from landmapy.habitat import create_data_dir\n",
    "help(create_data_dir)"
   ]
  }
 ],
 "metadata": {
  "kernelspec": {
   "display_name": "earth-analytics-python",
   "language": "python",
   "name": "python3"
  },
  "language_info": {
   "codemirror_mode": {
    "name": "ipython",
    "version": 3
   },
   "file_extension": ".py",
   "mimetype": "text/x-python",
   "name": "python",
   "nbconvert_exporter": "python",
   "pygments_lexer": "ipython3",
   "version": "3.11.10"
  }
 },
 "nbformat": 4,
 "nbformat_minor": 2
}
